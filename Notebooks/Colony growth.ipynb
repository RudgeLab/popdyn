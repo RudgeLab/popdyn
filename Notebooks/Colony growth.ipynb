{
 "cells": [
  {
   "cell_type": "code",
   "execution_count": 1,
   "id": "97bdd635-821c-4650-8392-e62b82d2f99a",
   "metadata": {},
   "outputs": [],
   "source": [
    "import os\n",
    "import json\n",
    "import re\n",
    "import math\n",
    "from datetime import datetime\n",
    "\n",
    "import numpy as np\n",
    "import pandas as pd\n",
    "from matplotlib import pyplot as plt\n",
    "\n",
    "from skimage.io import imread, imsave\n",
    "from scipy.optimize import curve_fit\n",
    "from scipy.signal import savgol_filter\n",
    "import scipy.stats as stats\n",
    "from scipy.integrate import odeint, solve_ivp"
   ]
  },
  {
   "cell_type": "code",
   "execution_count": 2,
   "id": "92546ffd-da6c-4fd2-b054-9f512dae4555",
   "metadata": {},
   "outputs": [],
   "source": [
    "def extract_array(s):\n",
    "    numbers = re.findall(r\"[-+]?\\d*\\.?\\d+e[-+]?\\d+|[-+]?\\d*\\.?\\d+\", s)\n",
    "    return np.array([float(num) for num in numbers])"
   ]
  },
  {
   "cell_type": "code",
   "execution_count": 3,
   "id": "8ab52982-a8eb-4db6-b00d-1ddcc218c3c6",
   "metadata": {},
   "outputs": [],
   "source": [
    "def gompertz(t, A, mu, l):\n",
    "    log_B = A * np.exp(-np.exp(mu * np.exp(1) / A * (l - t) + 1))\n",
    "    return log_B"
   ]
  },
  {
   "cell_type": "code",
   "execution_count": 4,
   "id": "c096b195-bad4-419b-b4ac-55f492828f18",
   "metadata": {},
   "outputs": [],
   "source": [
    "def gompertz_growth_rate(t, A, mu, l):\n",
    "    gr = mu * np.exp(np.exp(1) * mu * (l - t) / A - np.exp(np.exp(1) * mu * (l - t) / A + 1) + 2)\n",
    "    return gr"
   ]
  },
  {
   "cell_type": "code",
   "execution_count": 5,
   "id": "7237659e-c80b-4433-b44e-06b3076a1116",
   "metadata": {},
   "outputs": [],
   "source": [
    "def tm_gomp(A, mu, l):\n",
    "    return A / (mu * np.e) + l"
   ]
  },
  {
   "cell_type": "code",
   "execution_count": 6,
   "id": "49b50985-3185-4e69-8738-7613baab7ef6",
   "metadata": {},
   "outputs": [],
   "source": [
    "def logistic(t, A, mu, l):\n",
    "    log_B = A / (1 + np.exp(4 * mu / A * (l - t) + 2))\n",
    "    return log_B"
   ]
  },
  {
   "cell_type": "code",
   "execution_count": 7,
   "id": "91410df0-0e65-46c7-a37d-020d89bb201c",
   "metadata": {},
   "outputs": [],
   "source": [
    "def logistic_growth_rate(t, A, mu, l):\n",
    "    gr = 4 * mu * np.exp(4 * mu / A * (l - t) + 2) / (1 + np.exp(4 * mu / A * (l - t) + 2))**2\n",
    "    return gr"
   ]
  },
  {
   "cell_type": "code",
   "execution_count": 8,
   "id": "a2aa668f-b40c-4bc6-a1ed-fee010a114db",
   "metadata": {},
   "outputs": [],
   "source": [
    "def tm_logistic(A, mu, l):\n",
    "    return A / (2 * mu) + l"
   ]
  },
  {
   "cell_type": "code",
   "execution_count": 12,
   "id": "3d10794d-540a-4a82-8a95-426c1e77b934",
   "metadata": {},
   "outputs": [],
   "source": [
    "df = pd.read_excel('data_processed.xlsx')"
   ]
  },
  {
   "cell_type": "code",
   "execution_count": 13,
   "id": "f2d0e4f1-ecc1-429f-a8ba-41a1eebb17e6",
   "metadata": {},
   "outputs": [
    {
     "data": {
      "text/plain": [
       "Index(['Date', 'Machine', 'Position', 'Strain', 'DNA', 'Chemical', 'Pad',\n",
       "       'Dilution', 't_incub', 't_im', 'Quality', 'exp length', 'Colonies',\n",
       "       'Centers', 'Radius', 'radj', 'radius', 'area', 'gomp_params',\n",
       "       'logistic_params', 't_m_gomp', 't_m_logistic', 'r0', 'vel_start',\n",
       "       'vel_stop', 'vel_fit_start', 'vel_fit_stop', 'mu0', 'ws_params',\n",
       "       'area_max'],\n",
       "      dtype='object')"
      ]
     },
     "execution_count": 13,
     "metadata": {},
     "output_type": "execute_result"
    }
   ],
   "source": [
    "df.columns"
   ]
  },
  {
   "cell_type": "code",
   "execution_count": 14,
   "id": "ca21233e-b860-441f-b81d-5e7beebc6130",
   "metadata": {},
   "outputs": [
    {
     "data": {
      "text/html": [
       "<div>\n",
       "<style scoped>\n",
       "    .dataframe tbody tr th:only-of-type {\n",
       "        vertical-align: middle;\n",
       "    }\n",
       "\n",
       "    .dataframe tbody tr th {\n",
       "        vertical-align: top;\n",
       "    }\n",
       "\n",
       "    .dataframe thead th {\n",
       "        text-align: right;\n",
       "    }\n",
       "</style>\n",
       "<table border=\"1\" class=\"dataframe\">\n",
       "  <thead>\n",
       "    <tr style=\"text-align: right;\">\n",
       "      <th></th>\n",
       "      <th>Date</th>\n",
       "      <th>Machine</th>\n",
       "      <th>Position</th>\n",
       "      <th>Strain</th>\n",
       "      <th>DNA</th>\n",
       "      <th>Chemical</th>\n",
       "      <th>Pad</th>\n",
       "      <th>Dilution</th>\n",
       "      <th>t_incub</th>\n",
       "      <th>t_im</th>\n",
       "      <th>...</th>\n",
       "      <th>t_m_gomp</th>\n",
       "      <th>t_m_logistic</th>\n",
       "      <th>r0</th>\n",
       "      <th>vel_start</th>\n",
       "      <th>vel_stop</th>\n",
       "      <th>vel_fit_start</th>\n",
       "      <th>vel_fit_stop</th>\n",
       "      <th>mu0</th>\n",
       "      <th>ws_params</th>\n",
       "      <th>area_max</th>\n",
       "    </tr>\n",
       "  </thead>\n",
       "  <tbody>\n",
       "    <tr>\n",
       "      <th>0</th>\n",
       "      <td>2023-11-15</td>\n",
       "      <td>Ti scope</td>\n",
       "      <td>0</td>\n",
       "      <td>MC4100</td>\n",
       "      <td>pLPT20&amp;pLPT41</td>\n",
       "      <td>-</td>\n",
       "      <td>1</td>\n",
       "      <td>10^(-5)</td>\n",
       "      <td>09:25:00</td>\n",
       "      <td>14:41:00</td>\n",
       "      <td>...</td>\n",
       "      <td>196.234198</td>\n",
       "      <td>225.219567</td>\n",
       "      <td>NaN</td>\n",
       "      <td>NaN</td>\n",
       "      <td>NaN</td>\n",
       "      <td>NaN</td>\n",
       "      <td>NaN</td>\n",
       "      <td>NaN</td>\n",
       "      <td>NaN</td>\n",
       "      <td>81704</td>\n",
       "    </tr>\n",
       "    <tr>\n",
       "      <th>1</th>\n",
       "      <td>2023-11-15</td>\n",
       "      <td>Ti scope</td>\n",
       "      <td>1</td>\n",
       "      <td>MC4100</td>\n",
       "      <td>pLPT20&amp;pLPT41</td>\n",
       "      <td>-</td>\n",
       "      <td>1</td>\n",
       "      <td>10^(-5)</td>\n",
       "      <td>09:25:00</td>\n",
       "      <td>14:41:00</td>\n",
       "      <td>...</td>\n",
       "      <td>189.071440</td>\n",
       "      <td>215.629207</td>\n",
       "      <td>NaN</td>\n",
       "      <td>NaN</td>\n",
       "      <td>NaN</td>\n",
       "      <td>NaN</td>\n",
       "      <td>NaN</td>\n",
       "      <td>NaN</td>\n",
       "      <td>NaN</td>\n",
       "      <td>117407</td>\n",
       "    </tr>\n",
       "    <tr>\n",
       "      <th>2</th>\n",
       "      <td>2023-11-15</td>\n",
       "      <td>Ti scope</td>\n",
       "      <td>3</td>\n",
       "      <td>MC4100</td>\n",
       "      <td>pLPT20&amp;pLPT41</td>\n",
       "      <td>-</td>\n",
       "      <td>1</td>\n",
       "      <td>10^(-5)</td>\n",
       "      <td>09:25:00</td>\n",
       "      <td>14:41:00</td>\n",
       "      <td>...</td>\n",
       "      <td>180.609065</td>\n",
       "      <td>205.356638</td>\n",
       "      <td>NaN</td>\n",
       "      <td>NaN</td>\n",
       "      <td>NaN</td>\n",
       "      <td>NaN</td>\n",
       "      <td>NaN</td>\n",
       "      <td>NaN</td>\n",
       "      <td>NaN</td>\n",
       "      <td>108474</td>\n",
       "    </tr>\n",
       "    <tr>\n",
       "      <th>3</th>\n",
       "      <td>2023-11-15</td>\n",
       "      <td>Ti scope</td>\n",
       "      <td>6</td>\n",
       "      <td>MC4100</td>\n",
       "      <td>pLPT20&amp;pLPT41</td>\n",
       "      <td>-</td>\n",
       "      <td>1</td>\n",
       "      <td>10^(-5)</td>\n",
       "      <td>09:25:00</td>\n",
       "      <td>14:41:00</td>\n",
       "      <td>...</td>\n",
       "      <td>151.439181</td>\n",
       "      <td>174.692595</td>\n",
       "      <td>NaN</td>\n",
       "      <td>NaN</td>\n",
       "      <td>NaN</td>\n",
       "      <td>NaN</td>\n",
       "      <td>NaN</td>\n",
       "      <td>NaN</td>\n",
       "      <td>NaN</td>\n",
       "      <td>79025</td>\n",
       "    </tr>\n",
       "    <tr>\n",
       "      <th>4</th>\n",
       "      <td>2023-11-15</td>\n",
       "      <td>Ti scope</td>\n",
       "      <td>7</td>\n",
       "      <td>MC4100</td>\n",
       "      <td>pLPT20&amp;pLPT41</td>\n",
       "      <td>-</td>\n",
       "      <td>1</td>\n",
       "      <td>10^(-5)</td>\n",
       "      <td>09:25:00</td>\n",
       "      <td>14:41:00</td>\n",
       "      <td>...</td>\n",
       "      <td>186.954076</td>\n",
       "      <td>211.573857</td>\n",
       "      <td>NaN</td>\n",
       "      <td>NaN</td>\n",
       "      <td>NaN</td>\n",
       "      <td>NaN</td>\n",
       "      <td>NaN</td>\n",
       "      <td>NaN</td>\n",
       "      <td>NaN</td>\n",
       "      <td>102832</td>\n",
       "    </tr>\n",
       "  </tbody>\n",
       "</table>\n",
       "<p>5 rows × 30 columns</p>\n",
       "</div>"
      ],
      "text/plain": [
       "        Date   Machine  Position  Strain            DNA Chemical  Pad  \\\n",
       "0 2023-11-15  Ti scope         0  MC4100  pLPT20&pLPT41        -    1   \n",
       "1 2023-11-15  Ti scope         1  MC4100  pLPT20&pLPT41        -    1   \n",
       "2 2023-11-15  Ti scope         3  MC4100  pLPT20&pLPT41        -    1   \n",
       "3 2023-11-15  Ti scope         6  MC4100  pLPT20&pLPT41        -    1   \n",
       "4 2023-11-15  Ti scope         7  MC4100  pLPT20&pLPT41        -    1   \n",
       "\n",
       "  Dilution   t_incub      t_im  ...    t_m_gomp  t_m_logistic  r0 vel_start  \\\n",
       "0  10^(-5)  09:25:00  14:41:00  ...  196.234198    225.219567 NaN       NaN   \n",
       "1  10^(-5)  09:25:00  14:41:00  ...  189.071440    215.629207 NaN       NaN   \n",
       "2  10^(-5)  09:25:00  14:41:00  ...  180.609065    205.356638 NaN       NaN   \n",
       "3  10^(-5)  09:25:00  14:41:00  ...  151.439181    174.692595 NaN       NaN   \n",
       "4  10^(-5)  09:25:00  14:41:00  ...  186.954076    211.573857 NaN       NaN   \n",
       "\n",
       "   vel_stop  vel_fit_start vel_fit_stop mu0 ws_params area_max  \n",
       "0       NaN            NaN          NaN NaN       NaN    81704  \n",
       "1       NaN            NaN          NaN NaN       NaN   117407  \n",
       "2       NaN            NaN          NaN NaN       NaN   108474  \n",
       "3       NaN            NaN          NaN NaN       NaN    79025  \n",
       "4       NaN            NaN          NaN NaN       NaN   102832  \n",
       "\n",
       "[5 rows x 30 columns]"
      ]
     },
     "execution_count": 14,
     "metadata": {},
     "output_type": "execute_result"
    }
   ],
   "source": [
    "df.head()"
   ]
  },
  {
   "cell_type": "code",
   "execution_count": 58,
   "id": "a916294b-ab7e-4120-b935-ebf894dd8fd6",
   "metadata": {},
   "outputs": [],
   "source": [
    "d = '2023_12_08'\n",
    "m = 'Tweez scope'\n",
    "date = datetime.strptime(d, '%Y_%m_%d')\n",
    "pos = 12"
   ]
  },
  {
   "cell_type": "code",
   "execution_count": 59,
   "id": "a90d5458-c7d8-412e-a8d3-6429d7dc5ba5",
   "metadata": {},
   "outputs": [
    {
     "data": {
      "text/html": [
       "<div>\n",
       "<style scoped>\n",
       "    .dataframe tbody tr th:only-of-type {\n",
       "        vertical-align: middle;\n",
       "    }\n",
       "\n",
       "    .dataframe tbody tr th {\n",
       "        vertical-align: top;\n",
       "    }\n",
       "\n",
       "    .dataframe thead th {\n",
       "        text-align: right;\n",
       "    }\n",
       "</style>\n",
       "<table border=\"1\" class=\"dataframe\">\n",
       "  <thead>\n",
       "    <tr style=\"text-align: right;\">\n",
       "      <th></th>\n",
       "      <th>Date</th>\n",
       "      <th>Machine</th>\n",
       "      <th>Position</th>\n",
       "      <th>Strain</th>\n",
       "      <th>DNA</th>\n",
       "      <th>Chemical</th>\n",
       "      <th>Pad</th>\n",
       "      <th>Dilution</th>\n",
       "      <th>t_incub</th>\n",
       "      <th>t_im</th>\n",
       "      <th>...</th>\n",
       "      <th>t_m_gomp</th>\n",
       "      <th>t_m_logistic</th>\n",
       "      <th>r0</th>\n",
       "      <th>vel_start</th>\n",
       "      <th>vel_stop</th>\n",
       "      <th>vel_fit_start</th>\n",
       "      <th>vel_fit_stop</th>\n",
       "      <th>mu0</th>\n",
       "      <th>ws_params</th>\n",
       "      <th>area_max</th>\n",
       "    </tr>\n",
       "  </thead>\n",
       "  <tbody>\n",
       "    <tr>\n",
       "      <th>136</th>\n",
       "      <td>2023-12-08</td>\n",
       "      <td>Tweez scope</td>\n",
       "      <td>0</td>\n",
       "      <td>MC4100</td>\n",
       "      <td>pLPT20&amp;pLPT41</td>\n",
       "      <td>ATC-</td>\n",
       "      <td>1</td>\n",
       "      <td>10^(-5)</td>\n",
       "      <td>14:18:00</td>\n",
       "      <td>19:07:00</td>\n",
       "      <td>...</td>\n",
       "      <td>182.555028</td>\n",
       "      <td>213.730036</td>\n",
       "      <td>NaN</td>\n",
       "      <td>NaN</td>\n",
       "      <td>NaN</td>\n",
       "      <td>NaN</td>\n",
       "      <td>NaN</td>\n",
       "      <td>NaN</td>\n",
       "      <td>NaN</td>\n",
       "      <td>113653</td>\n",
       "    </tr>\n",
       "    <tr>\n",
       "      <th>137</th>\n",
       "      <td>2023-12-08</td>\n",
       "      <td>Tweez scope</td>\n",
       "      <td>1</td>\n",
       "      <td>MC4100</td>\n",
       "      <td>pLPT20&amp;pLPT41</td>\n",
       "      <td>ATC-</td>\n",
       "      <td>1</td>\n",
       "      <td>10^(-5)</td>\n",
       "      <td>14:18:00</td>\n",
       "      <td>19:07:00</td>\n",
       "      <td>...</td>\n",
       "      <td>146.074306</td>\n",
       "      <td>177.726551</td>\n",
       "      <td>NaN</td>\n",
       "      <td>NaN</td>\n",
       "      <td>NaN</td>\n",
       "      <td>NaN</td>\n",
       "      <td>NaN</td>\n",
       "      <td>NaN</td>\n",
       "      <td>NaN</td>\n",
       "      <td>103648</td>\n",
       "    </tr>\n",
       "    <tr>\n",
       "      <th>138</th>\n",
       "      <td>2023-12-08</td>\n",
       "      <td>Tweez scope</td>\n",
       "      <td>2</td>\n",
       "      <td>MC4100</td>\n",
       "      <td>pLPT20&amp;pLPT41</td>\n",
       "      <td>ATC-</td>\n",
       "      <td>2</td>\n",
       "      <td>10^(-5)</td>\n",
       "      <td>14:18:00</td>\n",
       "      <td>19:07:00</td>\n",
       "      <td>...</td>\n",
       "      <td>176.996448</td>\n",
       "      <td>208.380576</td>\n",
       "      <td>NaN</td>\n",
       "      <td>NaN</td>\n",
       "      <td>NaN</td>\n",
       "      <td>NaN</td>\n",
       "      <td>NaN</td>\n",
       "      <td>NaN</td>\n",
       "      <td>NaN</td>\n",
       "      <td>120472</td>\n",
       "    </tr>\n",
       "    <tr>\n",
       "      <th>139</th>\n",
       "      <td>2023-12-08</td>\n",
       "      <td>Tweez scope</td>\n",
       "      <td>4</td>\n",
       "      <td>MC4100</td>\n",
       "      <td>pLPT20&amp;pLPT41</td>\n",
       "      <td>ATC-</td>\n",
       "      <td>2</td>\n",
       "      <td>10^(-5)</td>\n",
       "      <td>14:18:00</td>\n",
       "      <td>19:07:00</td>\n",
       "      <td>...</td>\n",
       "      <td>160.261010</td>\n",
       "      <td>192.633930</td>\n",
       "      <td>NaN</td>\n",
       "      <td>NaN</td>\n",
       "      <td>NaN</td>\n",
       "      <td>NaN</td>\n",
       "      <td>NaN</td>\n",
       "      <td>NaN</td>\n",
       "      <td>NaN</td>\n",
       "      <td>132077</td>\n",
       "    </tr>\n",
       "    <tr>\n",
       "      <th>140</th>\n",
       "      <td>2023-12-08</td>\n",
       "      <td>Tweez scope</td>\n",
       "      <td>6</td>\n",
       "      <td>MC4100</td>\n",
       "      <td>pLPT20&amp;pLPT41</td>\n",
       "      <td>ATC-</td>\n",
       "      <td>2</td>\n",
       "      <td>10^(-5)</td>\n",
       "      <td>14:18:00</td>\n",
       "      <td>19:07:00</td>\n",
       "      <td>...</td>\n",
       "      <td>193.557825</td>\n",
       "      <td>230.268648</td>\n",
       "      <td>NaN</td>\n",
       "      <td>NaN</td>\n",
       "      <td>NaN</td>\n",
       "      <td>NaN</td>\n",
       "      <td>NaN</td>\n",
       "      <td>NaN</td>\n",
       "      <td>NaN</td>\n",
       "      <td>107045</td>\n",
       "    </tr>\n",
       "  </tbody>\n",
       "</table>\n",
       "<p>5 rows × 30 columns</p>\n",
       "</div>"
      ],
      "text/plain": [
       "          Date      Machine  Position  Strain            DNA Chemical  Pad  \\\n",
       "136 2023-12-08  Tweez scope         0  MC4100  pLPT20&pLPT41     ATC-    1   \n",
       "137 2023-12-08  Tweez scope         1  MC4100  pLPT20&pLPT41     ATC-    1   \n",
       "138 2023-12-08  Tweez scope         2  MC4100  pLPT20&pLPT41     ATC-    2   \n",
       "139 2023-12-08  Tweez scope         4  MC4100  pLPT20&pLPT41     ATC-    2   \n",
       "140 2023-12-08  Tweez scope         6  MC4100  pLPT20&pLPT41     ATC-    2   \n",
       "\n",
       "    Dilution   t_incub      t_im  ...    t_m_gomp  t_m_logistic  r0 vel_start  \\\n",
       "136  10^(-5)  14:18:00  19:07:00  ...  182.555028    213.730036 NaN       NaN   \n",
       "137  10^(-5)  14:18:00  19:07:00  ...  146.074306    177.726551 NaN       NaN   \n",
       "138  10^(-5)  14:18:00  19:07:00  ...  176.996448    208.380576 NaN       NaN   \n",
       "139  10^(-5)  14:18:00  19:07:00  ...  160.261010    192.633930 NaN       NaN   \n",
       "140  10^(-5)  14:18:00  19:07:00  ...  193.557825    230.268648 NaN       NaN   \n",
       "\n",
       "     vel_stop  vel_fit_start vel_fit_stop mu0 ws_params area_max  \n",
       "136       NaN            NaN          NaN NaN       NaN   113653  \n",
       "137       NaN            NaN          NaN NaN       NaN   103648  \n",
       "138       NaN            NaN          NaN NaN       NaN   120472  \n",
       "139       NaN            NaN          NaN NaN       NaN   132077  \n",
       "140       NaN            NaN          NaN NaN       NaN   107045  \n",
       "\n",
       "[5 rows x 30 columns]"
      ]
     },
     "execution_count": 59,
     "metadata": {},
     "output_type": "execute_result"
    }
   ],
   "source": [
    "df_exp = df[(df.Date == date) & (df.Machine == m)]\n",
    "df_exp.head()"
   ]
  },
  {
   "cell_type": "code",
   "execution_count": 62,
   "id": "ec40616a-3626-4766-b673-d67ac4e3d1de",
   "metadata": {},
   "outputs": [
    {
     "data": {
      "text/html": [
       "<div>\n",
       "<style scoped>\n",
       "    .dataframe tbody tr th:only-of-type {\n",
       "        vertical-align: middle;\n",
       "    }\n",
       "\n",
       "    .dataframe tbody tr th {\n",
       "        vertical-align: top;\n",
       "    }\n",
       "\n",
       "    .dataframe thead th {\n",
       "        text-align: right;\n",
       "    }\n",
       "</style>\n",
       "<table border=\"1\" class=\"dataframe\">\n",
       "  <thead>\n",
       "    <tr style=\"text-align: right;\">\n",
       "      <th></th>\n",
       "      <th>Date</th>\n",
       "      <th>Machine</th>\n",
       "      <th>Position</th>\n",
       "      <th>Strain</th>\n",
       "      <th>DNA</th>\n",
       "      <th>Chemical</th>\n",
       "      <th>Pad</th>\n",
       "      <th>Dilution</th>\n",
       "      <th>t_incub</th>\n",
       "      <th>t_im</th>\n",
       "      <th>...</th>\n",
       "      <th>t_m_gomp</th>\n",
       "      <th>t_m_logistic</th>\n",
       "      <th>r0</th>\n",
       "      <th>vel_start</th>\n",
       "      <th>vel_stop</th>\n",
       "      <th>vel_fit_start</th>\n",
       "      <th>vel_fit_stop</th>\n",
       "      <th>mu0</th>\n",
       "      <th>ws_params</th>\n",
       "      <th>area_max</th>\n",
       "    </tr>\n",
       "  </thead>\n",
       "  <tbody>\n",
       "    <tr>\n",
       "      <th>143</th>\n",
       "      <td>2023-12-08</td>\n",
       "      <td>Tweez scope</td>\n",
       "      <td>12</td>\n",
       "      <td>MC4100</td>\n",
       "      <td>pLPT20&amp;pLPT41</td>\n",
       "      <td>ATC-</td>\n",
       "      <td>3</td>\n",
       "      <td>10^(-5)</td>\n",
       "      <td>14:18:00</td>\n",
       "      <td>19:07:00</td>\n",
       "      <td>...</td>\n",
       "      <td>187.726002</td>\n",
       "      <td>214.874649</td>\n",
       "      <td>NaN</td>\n",
       "      <td>NaN</td>\n",
       "      <td>NaN</td>\n",
       "      <td>NaN</td>\n",
       "      <td>NaN</td>\n",
       "      <td>NaN</td>\n",
       "      <td>NaN</td>\n",
       "      <td>180812</td>\n",
       "    </tr>\n",
       "  </tbody>\n",
       "</table>\n",
       "<p>1 rows × 30 columns</p>\n",
       "</div>"
      ],
      "text/plain": [
       "          Date      Machine  Position  Strain            DNA Chemical  Pad  \\\n",
       "143 2023-12-08  Tweez scope        12  MC4100  pLPT20&pLPT41     ATC-    3   \n",
       "\n",
       "    Dilution   t_incub      t_im  ...    t_m_gomp  t_m_logistic  r0 vel_start  \\\n",
       "143  10^(-5)  14:18:00  19:07:00  ...  187.726002    214.874649 NaN       NaN   \n",
       "\n",
       "     vel_stop  vel_fit_start vel_fit_stop mu0 ws_params area_max  \n",
       "143       NaN            NaN          NaN NaN       NaN   180812  \n",
       "\n",
       "[1 rows x 30 columns]"
      ]
     },
     "execution_count": 62,
     "metadata": {},
     "output_type": "execute_result"
    }
   ],
   "source": [
    "df_pos = df_exp[df_exp.Position == pos]\n",
    "df_pos"
   ]
  },
  {
   "cell_type": "code",
   "execution_count": 97,
   "id": "43aa87ae-3677-4a4c-9276-b6bed1347746",
   "metadata": {},
   "outputs": [],
   "source": [
    "gparams = json.loads(df_pos['gomp_params'].values[0])\n",
    "lparams = json.loads(df_pos['logistic_params'].values[0])"
   ]
  },
  {
   "cell_type": "code",
   "execution_count": 92,
   "id": "b395754b-cde4-4481-8a65-8162c3970b9b",
   "metadata": {},
   "outputs": [],
   "source": [
    "gA = gparams['A']\n",
    "gmu = gparams['mu_m']\n",
    "gl = gparams['lambda']\n",
    "lA = lparams['A']\n",
    "lmu = lparams['mu_m']\n",
    "ll = lparams['lambda']"
   ]
  },
  {
   "cell_type": "markdown",
   "id": "4adfb355-7c2f-48c5-8871-254c567bb3a8",
   "metadata": {},
   "source": [
    "##### Incubation time"
   ]
  },
  {
   "cell_type": "code",
   "execution_count": 124,
   "id": "1eb1637a-5aa9-4d13-9206-a49c05ed788d",
   "metadata": {},
   "outputs": [
    {
     "ename": "ValueError",
     "evalue": "The truth value of a Series is ambiguous. Use a.empty, a.bool(), a.item(), a.any() or a.all().",
     "output_type": "error",
     "traceback": [
      "\u001b[0;31m---------------------------------------------------------------------------\u001b[0m",
      "\u001b[0;31mValueError\u001b[0m                                Traceback (most recent call last)",
      "\u001b[0;32m/tmp/ipykernel_448723/924632708.py\u001b[0m in \u001b[0;36m?\u001b[0;34m()\u001b[0m\n\u001b[1;32m      1\u001b[0m \u001b[0midx\u001b[0m \u001b[0;34m=\u001b[0m \u001b[0mdf_pos\u001b[0m\u001b[0;34m.\u001b[0m\u001b[0mindex\u001b[0m\u001b[0;34m\u001b[0m\u001b[0;34m\u001b[0m\u001b[0m\n\u001b[1;32m      2\u001b[0m \u001b[0marea\u001b[0m \u001b[0;34m=\u001b[0m \u001b[0mextract_array\u001b[0m\u001b[0;34m(\u001b[0m\u001b[0mdf\u001b[0m\u001b[0;34m.\u001b[0m\u001b[0mloc\u001b[0m\u001b[0;34m[\u001b[0m\u001b[0midx\u001b[0m\u001b[0;34m,\u001b[0m\u001b[0;34m'area'\u001b[0m\u001b[0;34m]\u001b[0m\u001b[0;34m.\u001b[0m\u001b[0mvalues\u001b[0m\u001b[0;34m[\u001b[0m\u001b[0;36m0\u001b[0m\u001b[0;34m]\u001b[0m\u001b[0;34m)\u001b[0m\u001b[0;34m\u001b[0m\u001b[0;34m\u001b[0m\u001b[0m\n\u001b[1;32m      3\u001b[0m \u001b[0mincub_time_s\u001b[0m \u001b[0;34m=\u001b[0m \u001b[0mdatetime\u001b[0m\u001b[0;34m.\u001b[0m\u001b[0mstrptime\u001b[0m\u001b[0;34m(\u001b[0m\u001b[0mdf\u001b[0m\u001b[0;34m.\u001b[0m\u001b[0mloc\u001b[0m\u001b[0;34m[\u001b[0m\u001b[0midx\u001b[0m\u001b[0;34m,\u001b[0m\u001b[0;34m't_im'\u001b[0m\u001b[0;34m]\u001b[0m\u001b[0;34m.\u001b[0m\u001b[0mvalues\u001b[0m\u001b[0;34m[\u001b[0m\u001b[0;36m0\u001b[0m\u001b[0;34m]\u001b[0m\u001b[0;34m,\u001b[0m \u001b[0;34m'%H:%M:%S'\u001b[0m\u001b[0;34m)\u001b[0m \u001b[0;34m-\u001b[0m \u001b[0mdatetime\u001b[0m\u001b[0;34m.\u001b[0m\u001b[0mstrptime\u001b[0m\u001b[0;34m(\u001b[0m\u001b[0mdf\u001b[0m\u001b[0;34m.\u001b[0m\u001b[0mloc\u001b[0m\u001b[0;34m[\u001b[0m\u001b[0midx\u001b[0m\u001b[0;34m,\u001b[0m\u001b[0;34m't_incub'\u001b[0m\u001b[0;34m]\u001b[0m\u001b[0;34m.\u001b[0m\u001b[0mvalues\u001b[0m\u001b[0;34m[\u001b[0m\u001b[0;36m0\u001b[0m\u001b[0;34m]\u001b[0m\u001b[0;34m,\u001b[0m \u001b[0;34m'%H:%M:%S'\u001b[0m\u001b[0;34m)\u001b[0m\u001b[0;34m\u001b[0m\u001b[0;34m\u001b[0m\u001b[0m\n\u001b[1;32m      4\u001b[0m \u001b[0mincub_time_n\u001b[0m \u001b[0;34m=\u001b[0m \u001b[0mincub_time_s\u001b[0m\u001b[0;34m.\u001b[0m\u001b[0mseconds\u001b[0m \u001b[0;34m/\u001b[0m \u001b[0;36m60\u001b[0m\u001b[0;34m\u001b[0m\u001b[0;34m\u001b[0m\u001b[0m\n\u001b[0;32m----> 5\u001b[0;31m \u001b[0mtime_points\u001b[0m \u001b[0;34m=\u001b[0m \u001b[0mnp\u001b[0m\u001b[0;34m.\u001b[0m\u001b[0marange\u001b[0m\u001b[0;34m(\u001b[0m\u001b[0;36m0\u001b[0m\u001b[0;34m,\u001b[0m \u001b[0mdf\u001b[0m\u001b[0;34m.\u001b[0m\u001b[0mloc\u001b[0m\u001b[0;34m[\u001b[0m\u001b[0midx\u001b[0m\u001b[0;34m,\u001b[0m \u001b[0;34m'exp length'\u001b[0m\u001b[0;34m]\u001b[0m\u001b[0;34m)\u001b[0m\u001b[0;34m*\u001b[0m\u001b[0;36m10\u001b[0m \u001b[0;34m+\u001b[0m \u001b[0mincub_time_n\u001b[0m\u001b[0;34m\u001b[0m\u001b[0;34m\u001b[0m\u001b[0m\n\u001b[0m\u001b[1;32m      6\u001b[0m \u001b[0mt\u001b[0m \u001b[0;34m=\u001b[0m \u001b[0mnp\u001b[0m\u001b[0;34m.\u001b[0m\u001b[0marange\u001b[0m\u001b[0;34m(\u001b[0m\u001b[0;36m0\u001b[0m\u001b[0;34m,\u001b[0m\u001b[0mtime_points\u001b[0m\u001b[0;34m[\u001b[0m\u001b[0;34m-\u001b[0m\u001b[0;36m1\u001b[0m\u001b[0;34m]\u001b[0m\u001b[0;34m)\u001b[0m\u001b[0;34m\u001b[0m\u001b[0;34m\u001b[0m\u001b[0m\n",
      "\u001b[0;32m~/anaconda3/envs/popdyn/lib/python3.11/site-packages/pandas/core/generic.py\u001b[0m in \u001b[0;36m?\u001b[0;34m(self)\u001b[0m\n\u001b[1;32m   1517\u001b[0m     \u001b[0;34m@\u001b[0m\u001b[0mfinal\u001b[0m\u001b[0;34m\u001b[0m\u001b[0;34m\u001b[0m\u001b[0m\n\u001b[1;32m   1518\u001b[0m     \u001b[0;32mdef\u001b[0m \u001b[0m__nonzero__\u001b[0m\u001b[0;34m(\u001b[0m\u001b[0mself\u001b[0m\u001b[0;34m)\u001b[0m \u001b[0;34m->\u001b[0m \u001b[0mNoReturn\u001b[0m\u001b[0;34m:\u001b[0m\u001b[0;34m\u001b[0m\u001b[0;34m\u001b[0m\u001b[0m\n\u001b[0;32m-> 1519\u001b[0;31m         raise ValueError(\n\u001b[0m\u001b[1;32m   1520\u001b[0m             \u001b[0;34mf\"The truth value of a {type(self).__name__} is ambiguous. \"\u001b[0m\u001b[0;34m\u001b[0m\u001b[0;34m\u001b[0m\u001b[0m\n\u001b[1;32m   1521\u001b[0m             \u001b[0;34m\"Use a.empty, a.bool(), a.item(), a.any() or a.all().\"\u001b[0m\u001b[0;34m\u001b[0m\u001b[0;34m\u001b[0m\u001b[0m\n\u001b[1;32m   1522\u001b[0m         )\n",
      "\u001b[0;31mValueError\u001b[0m: The truth value of a Series is ambiguous. Use a.empty, a.bool(), a.item(), a.any() or a.all()."
     ]
    }
   ],
   "source": [
    "idx = df_pos.index\n",
    "area = extract_array(df.loc[idx,'area'].values[0])\n",
    "incub_time_s = datetime.strptime(df.loc[idx,'t_im'], '%H:%M:%S') - datetime.strptime(df.loc[idx,'t_incub'], '%H:%M:%S')\n",
    "incub_time_n = incub_time_s.seconds / 60\n",
    "time_points = np.arange(0, df.loc[idx, 'exp length'])*10 + incub_time_n\n",
    "t = np.arange(0,time_points[-1])"
   ]
  },
  {
   "cell_type": "code",
   "execution_count": 123,
   "id": "894286db-207a-46c6-8ced-f3ff8b3981bb",
   "metadata": {},
   "outputs": [
    {
     "data": {
      "text/plain": [
       "'19:07:00'"
      ]
     },
     "execution_count": 123,
     "metadata": {},
     "output_type": "execute_result"
    }
   ],
   "source": [
    "df.loc[idx,'t_im'].values[0]"
   ]
  },
  {
   "cell_type": "code",
   "execution_count": 119,
   "id": "117f2db1-e39f-4765-9ffc-249e0173d4d1",
   "metadata": {},
   "outputs": [
    {
     "data": {
      "text/plain": [
       "'[  4480   4732   6238   7146   8704  10590  12583  15484  18587  22267\\n  26661  31311  36441  42668  48883  55336  62076  68323  74999  81301\\n  88045  91654  99136 105814 110960 115892 121323 125538 128205 133521\\n 136156 138689 141845 144445 146754 151616 154084 155553 158101 158466\\n 159635 162890 162072 164265 165345 167244 168288 168175 169021 169699\\n 171302 172332 172983 172905 173986 174480 173502 173754 174679 175094\\n 175384 175983 175662 174208 174507 173802 175852 175296 174076 175934\\n 177224 175918 175190 177018 175576 176395 176523 175853 176372 176369\\n 176629 175994 176732 177296 178370 177084 177658 177152 178114 177079\\n 176892 176865 177493 178064 177794 177470 178269 177435 177606 178426\\n 176947 178169 179034 177481 179131 177505 178603 176315 179226 178372\\n 179020 178886 179189 177629 177281 178588 178754 177714 178338 178487\\n 177692 177474 178321 178342 178155 179343 178566 179277 178800 179585\\n 177959 178600 178893 178585 179710 179774 179026 177796 179278 179148\\n 179747 178243 177882 178715 179749 179331 178169 178455 178515 178843\\n 179023 178570 178748 179713 179407 178613 178978 179007 179031 178812\\n 178874 179907 179177 179211 179710 180167 180209 179342 179092 180812\\n 180293 180380 179396 179418 180295 179347 179426 179923 179691 179383\\n 179746 180365 179449 179147 180263 180355 180469 179341 179174 179092\\n 178974 180089 179578 179307 178867 180188 179571 179434 180062 179406\\n 179237 179884 179325 178207 178513 178458 178968 179528 178625 178568\\n 179678 179121 179760 179047 179042 178348 178595 178647 178670 178645\\n 178435 178249 179328 178708 178215 178148 178221 179353 178009 178736\\n 179157 178600 178046 177911 177922 178883 178140 178264 179008 178516\\n 177414 178159 178455 179035 178486 179221 178238 177770 178042 178443\\n 177662 177779 177698 177743 177625 177789 177623 178158 177218 177432\\n 177310 177301 177695 178166 176819 176826 177787 177325 177231 177292\\n 177337 177411 176617 176843 176351 177771 176823 178104 177922 177747\\n 176697 176515 178132 176259 176234 178100 176312 176629 177625 176877\\n 177087 177573 176590 176883 175903 176322 177488 176484 176833 176420\\n 176788 176887 176840 176620 176536 177292 177304 176350 176291 176444\\n 177524 177235 177062 175286 176336 175521 176946 177529 176384 175662\\n 176289 175822 176432 175684 176478 175901 176644 176432 176738 176949\\n 176027 176121 175508 175802 175969 176595 175091 175783 175291 177476\\n 175735 175834 176300 176338 176131 175742 175944 175636 176230 176596\\n 177136 175449 176675 175741 174880 175877 175380 175441 175797 176353\\n 175409 174492 176430 175334 176266 175725 176570 175451 176438 175703\\n 176416 174865 176310 176306 175258 175343 175270 176058 175344 175892\\n 175041 174784 174218 175103 176063 174012 175025 173779 175066 175763\\n 174127 175103 174525 175302 176050 174678 175354 174851 175270 174738\\n 175868 174490 174632 175400 174605 175000]'"
      ]
     },
     "execution_count": 119,
     "metadata": {},
     "output_type": "execute_result"
    }
   ],
   "source": [
    "df.loc[idx,'area'].values[0]"
   ]
  },
  {
   "cell_type": "code",
   "execution_count": 110,
   "id": "c11206d4-f053-4b02-a572-58e6a634a551",
   "metadata": {},
   "outputs": [],
   "source": [
    "gg = gompertz(t,gA,gmu,gl)\n",
    "lg = logistic(t,lA,lmu,ll)"
   ]
  },
  {
   "cell_type": "code",
   "execution_count": 114,
   "id": "e9b85a2c-3839-4cd0-b8e8-8cd4e2dada26",
   "metadata": {},
   "outputs": [
    {
     "data": {
      "image/png": "[encoded data removed]",
      "text/plain": [
       "<Figure size 640x480 with 1 Axes>"
      ]
     },
     "metadata": {},
     "output_type": "display_data"
    }
   ],
   "source": [
    "plt.plot(t,np.exp(gg), label='Gompertz')\n",
    "plt.plot(t,np.exp(lg), label='Logistic')\n",
    "plt.plot(time_points,area, label='Area')\n",
    "plt.legend()\n",
    "plt.show()"
   ]
  },
  {
   "cell_type": "code",
   "execution_count": null,
   "id": "f781042d-613b-4b9e-8f51-b6823de01417",
   "metadata": {},
   "outputs": [],
   "source": []
  }
 ],
 "metadata": {
  "kernelspec": {
   "display_name": "Python 3 (ipykernel)",
   "language": "python",
   "name": "python3"
  },
  "language_info": {
   "codemirror_mode": {
    "name": "ipython",
    "version": 3
   },
   "file_extension": ".py",
   "mimetype": "text/x-python",
   "name": "python",
   "nbconvert_exporter": "python",
   "pygments_lexer": "ipython3",
   "version": "3.11.8"
  }
 },
 "nbformat": 4,
 "nbformat_minor": 5
}
