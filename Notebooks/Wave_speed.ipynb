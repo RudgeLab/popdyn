{
 "cells": [
  {
   "cell_type": "code",
   "execution_count": 1,
   "id": "8e986395-3e91-4f2b-9d77-a1b5a73fe4c2",
   "metadata": {},
   "outputs": [],
   "source": [
    "import os\n",
    "from skimage.io import imread, imsave\n",
    "import numpy as np\n",
    "from skimage.filters import gaussian\n",
    "import matplotlib.pyplot as plt\n",
    "from scipy.signal import savgol_filter\n",
    "from skimage.transform import warp\n",
    "from scipy.signal import find_peaks\n",
    "from scipy.ndimage import uniform_filter1d\n",
    "from numpy.polynomial import Polynomial\n",
    "import pandas as pd"
   ]
  },
  {
   "cell_type": "code",
   "execution_count": 2,
   "id": "1385ffa4-9571-4c97-b1bc-cf24eea7d7c0",
   "metadata": {},
   "outputs": [],
   "source": []
  },
  {
   "cell_type": "code",
   "execution_count": 36,
   "id": "b021724c-26ae-4ff2-a27f-6216373e180a",
   "metadata": {},
   "outputs": [
    {
     "name": "stdout",
     "output_type": "stream",
     "text": [
      "0\n",
      "2023-11-15 00:00:00 Ti scope pLPT20&pLPT41\n",
      "2023_11_15_10x_1.0x_pLPT20&41_Ti_Pos0.ome.tif\n",
      "2023_11_15_10x_1.0x_pLPT20&41_Ti_Pos1.ome.tif\n",
      "2023_11_15_10x_1.0x_pLPT20&41_Ti_Pos2.ome.tif\n",
      "2023_11_15_10x_1.0x_pLPT20&41_Ti_Pos3.ome.tif\n",
      "2023_11_15_10x_1.0x_pLPT20&41_Ti_Pos6.ome.tif\n",
      "2023_11_15_10x_1.0x_pLPT20&41_Ti_Pos7.ome.tif\n",
      "2023_11_15_10x_1.0x_pLPT20&41_Ti_Pos9.ome.tif\n",
      "2023_11_15_10x_1.0x_pLPT20&41_Ti_Pos17.ome.tif\n",
      "2023_11_15_10x_1.0x_pLPT20&41_Ti_Pos19.ome.tif\n",
      "1\n",
      "2023-11-15 00:00:00 Tweez scope pLPT20&pLPT41\n",
      "2023_11_15_10x_1.0x_pLPT20&41_TiTweez_Pos0.ome.tif\n",
      "2023_11_15_10x_1.0x_pLPT20&41_TiTweez_Pos1.ome.tif\n",
      "2023_11_15_10x_1.0x_pLPT20&41_TiTweez_Pos3.ome.tif\n",
      "2\n",
      "2023-11-17 00:00:00 Ti scope pLPT119&pLPT41\n",
      "2023_11_17_10x_1.0x_pLPT119&41_Ti_Pos0.ome.tif\n",
      "2023_11_17_10x_1.0x_pLPT119&41_Ti_Pos1.ome.tif\n",
      "2023_11_17_10x_1.0x_pLPT119&41_Ti_Pos2.ome.tif\n",
      "2023_11_17_10x_1.0x_pLPT119&41_Ti_Pos3.ome.tif\n",
      "2023_11_17_10x_1.0x_pLPT119&41_Ti_Pos4.ome.tif\n",
      "2023_11_17_10x_1.0x_pLPT119&41_Ti_Pos5.ome.tif\n",
      "3\n",
      "2023-11-17 00:00:00 Tweez scope pLPT119&pLPT41\n",
      "2023_11_17_10x_1.0x_pLPT119&41_TiTweez_Pos2.ome.tif\n",
      "2023_11_17_10x_1.0x_pLPT119&41_TiTweez_Pos3.ome.tif\n",
      "4\n",
      "2023-11-28 00:00:00 Ti scope pAAA\n",
      "5\n",
      "2023-11-28 00:00:00 Tweez scope pAAA\n",
      "6\n",
      "2023-11-30 00:00:00 Ti scope pAAA\n",
      "7\n",
      "2023-11-30 00:00:00 Tweez scope pAAA\n",
      "8\n",
      "2023-12-04 00:00:00 Ti scope pLPT107&pLPT41\n",
      "2023_12_04_10x_1.0x_pLPT107&41_Ti_Pos0.ome.tif\n",
      "2023_12_04_10x_1.0x_pLPT107&41_Ti_Pos2.ome.tif\n",
      "2023_12_04_10x_1.0x_pLPT107&41_Ti_Pos3.ome.tif\n",
      "2023_12_04_10x_1.0x_pLPT107&41_Ti_Pos9.ome.tif\n",
      "2023_12_04_10x_1.0x_pLPT107&41_Ti_Pos10.ome.tif\n",
      "2023_12_04_10x_1.0x_pLPT107&41_Ti_Pos11.ome.tif\n",
      "2023_12_04_10x_1.0x_pLPT107&41_Ti_Pos14.ome.tif\n",
      "2023_12_04_10x_1.0x_pLPT107&41_Ti_Pos15.ome.tif\n",
      "2023_12_04_10x_1.0x_pLPT107&41_Ti_Pos18.ome.tif\n",
      "2023_12_04_10x_1.0x_pLPT107&41_Ti_Pos19.ome.tif\n",
      "2023_12_04_10x_1.0x_pLPT107&41_Ti_Pos21.ome.tif\n",
      "2023_12_04_10x_1.0x_pLPT107&41_Ti_Pos22.ome.tif\n",
      "2023_12_04_10x_1.0x_pLPT107&41_Ti_Pos24.ome.tif\n",
      "2023_12_04_10x_1.0x_pLPT107&41_Ti_Pos26.ome.tif\n",
      "9\n",
      "2023-12-04 00:00:00 Tweez scope pLPT107&pLPT41\n",
      "2023_12_04_10x_1.0x_pLPT107&41_TiTweez_Pos0.ome.tif\n",
      "2023_12_04_10x_1.0x_pLPT107&41_TiTweez_Pos6.ome.tif\n",
      "2023_12_04_10x_1.0x_pLPT107&41_TiTweez_Pos7.ome.tif\n",
      "2023_12_04_10x_1.0x_pLPT107&41_TiTweez_Pos8.ome.tif\n",
      "2023_12_04_10x_1.0x_pLPT107&41_TiTweez_Pos9.ome.tif\n",
      "2023_12_04_10x_1.0x_pLPT107&41_TiTweez_Pos10.ome.tif\n",
      "2023_12_04_10x_1.0x_pLPT107&41_TiTweez_Pos13.ome.tif\n",
      "2023_12_04_10x_1.0x_pLPT107&41_TiTweez_Pos14.ome.tif\n",
      "2023_12_04_10x_1.0x_pLPT107&41_TiTweez_Pos16.ome.tif\n",
      "2023_12_04_10x_1.0x_pLPT107&41_TiTweez_Pos19.ome.tif\n",
      "2023_12_04_10x_1.0x_pLPT107&41_TiTweez_Pos20.ome.tif\n",
      "2023_12_04_10x_1.0x_pLPT107&41_TiTweez_Pos21.ome.tif\n",
      "2023_12_04_10x_1.0x_pLPT107&41_TiTweez_Pos22.ome.tif\n",
      "2023_12_04_10x_1.0x_pLPT107&41_TiTweez_Pos23.ome.tif\n",
      "2023_12_04_10x_1.0x_pLPT107&41_TiTweez_Pos25.ome.tif\n",
      "2023_12_04_10x_1.0x_pLPT107&41_TiTweez_Pos26.ome.tif\n",
      "2023_12_04_10x_1.0x_pLPT107&41_TiTweez_Pos27.ome.tif\n",
      "2023_12_04_10x_1.0x_pLPT107&41_TiTweez_Pos29.ome.tif\n",
      "2023_12_04_10x_1.0x_pLPT107&41_TiTweez_Pos31.ome.tif\n",
      "2023_12_04_10x_1.0x_pLPT107&41_TiTweez_Pos33.ome.tif\n",
      "2023_12_04_10x_1.0x_pLPT107&41_TiTweez_Pos34.ome.tif\n",
      "10\n",
      "2023-12-06 00:00:00 Tweez scope pLPT20&pLPT41\n",
      "2023_12_06_10x_1.0x_pLPT20&41_TiTweez_Pos1.ome.tif\n",
      "2023_12_06_10x_1.0x_pLPT20&41_TiTweez_Pos4.ome.tif\n",
      "2023_12_06_10x_1.0x_pLPT20&41_TiTweez_Pos5.ome.tif\n",
      "2023_12_06_10x_1.0x_pLPT20&41_TiTweez_Pos6.ome.tif\n",
      "2023_12_06_10x_1.0x_pLPT20&41_TiTweez_Pos7.ome.tif\n",
      "2023_12_06_10x_1.0x_pLPT20&41_TiTweez_Pos11.ome.tif\n",
      "2023_12_06_10x_1.0x_pLPT20&41_TiTweez_Pos12.ome.tif\n",
      "2023_12_06_10x_1.0x_pLPT20&41_TiTweez_Pos13.ome.tif\n",
      "2023_12_06_10x_1.0x_pLPT20&41_TiTweez_Pos14.ome.tif\n",
      "2023_12_06_10x_1.0x_pLPT20&41_TiTweez_Pos15.ome.tif\n",
      "2023_12_06_10x_1.0x_pLPT20&41_TiTweez_Pos16.ome.tif\n",
      "2023_12_06_10x_1.0x_pLPT20&41_TiTweez_Pos17.ome.tif\n",
      "2023_12_06_10x_1.0x_pLPT20&41_TiTweez_Pos18.ome.tif\n",
      "2023_12_06_10x_1.0x_pLPT20&41_TiTweez_Pos21.ome.tif\n",
      "2023_12_06_10x_1.0x_pLPT20&41_TiTweez_Pos22.ome.tif\n",
      "2023_12_06_10x_1.0x_pLPT20&41_TiTweez_Pos23.ome.tif\n",
      "2023_12_06_10x_1.0x_pLPT20&41_TiTweez_Pos25.ome.tif\n",
      "2023_12_06_10x_1.0x_pLPT20&41_TiTweez_Pos26.ome.tif\n",
      "11\n",
      "2023-12-08 00:00:00 Ti scope pLPT107&pLPT41\n",
      "2023_12_08_10x_1.0x_pLPT107&41_Ti_Pos0.ome.tif\n",
      "2023_12_08_10x_1.0x_pLPT107&41_Ti_Pos1.ome.tif\n",
      "2023_12_08_10x_1.0x_pLPT107&41_Ti_Pos2.ome.tif\n",
      "2023_12_08_10x_1.0x_pLPT107&41_Ti_Pos5.ome.tif\n",
      "2023_12_08_10x_1.0x_pLPT107&41_Ti_Pos6.ome.tif\n",
      "2023_12_08_10x_1.0x_pLPT107&41_Ti_Pos14.ome.tif\n",
      "2023_12_08_10x_1.0x_pLPT107&41_Ti_Pos16.ome.tif\n",
      "2023_12_08_10x_1.0x_pLPT107&41_Ti_Pos17.ome.tif\n",
      "2023_12_08_10x_1.0x_pLPT107&41_Ti_Pos19.ome.tif\n",
      "2023_12_08_10x_1.0x_pLPT107&41_Ti_Pos21.ome.tif\n",
      "2023_12_08_10x_1.0x_pLPT107&41_Ti_Pos23.ome.tif\n",
      "2023_12_08_10x_1.0x_pLPT107&41_Ti_Pos24.ome.tif\n",
      "2023_12_08_10x_1.0x_pLPT107&41_Ti_Pos25.ome.tif\n",
      "2023_12_08_10x_1.0x_pLPT107&41_Ti_Pos28.ome.tif\n",
      "2023_12_08_10x_1.0x_pLPT107&41_Ti_Pos30.ome.tif\n",
      "2023_12_08_10x_1.0x_pLPT107&41_Ti_Pos31.ome.tif\n",
      "2023_12_08_10x_1.0x_pLPT107&41_Ti_Pos32.ome.tif\n",
      "2023_12_08_10x_1.0x_pLPT107&41_Ti_Pos34.ome.tif\n",
      "12\n",
      "2023-12-08 00:00:00 Tweez scope pLPT20&pLPT41\n",
      "2023_12_08_10x_1.0x_pLPT20&41_TiTweez_Pos0.ome.tif\n",
      "2023_12_08_10x_1.0x_pLPT20&41_TiTweez_Pos1.ome.tif\n",
      "2023_12_08_10x_1.0x_pLPT20&41_TiTweez_Pos2.ome.tif\n",
      "2023_12_08_10x_1.0x_pLPT20&41_TiTweez_Pos4.ome.tif\n",
      "2023_12_08_10x_1.0x_pLPT20&41_TiTweez_Pos5.ome.tif\n",
      "2023_12_08_10x_1.0x_pLPT20&41_TiTweez_Pos6.ome.tif\n",
      "2023_12_08_10x_1.0x_pLPT20&41_TiTweez_Pos7.ome.tif\n",
      "2023_12_08_10x_1.0x_pLPT20&41_TiTweez_Pos11.ome.tif\n",
      "2023_12_08_10x_1.0x_pLPT20&41_TiTweez_Pos12.ome.tif\n",
      "2023_12_08_10x_1.0x_pLPT20&41_TiTweez_Pos13.ome.tif\n",
      "2023_12_08_10x_1.0x_pLPT20&41_TiTweez_Pos17.ome.tif\n",
      "2023_12_08_10x_1.0x_pLPT20&41_TiTweez_Pos18.ome.tif\n",
      "2023_12_08_10x_1.0x_pLPT20&41_TiTweez_Pos19.ome.tif\n",
      "2023_12_08_10x_1.0x_pLPT20&41_TiTweez_Pos21.ome.tif\n",
      "2023_12_08_10x_1.0x_pLPT20&41_TiTweez_Pos22.ome.tif\n",
      "2023_12_08_10x_1.0x_pLPT20&41_TiTweez_Pos23.ome.tif\n",
      "2023_12_08_10x_1.0x_pLPT20&41_TiTweez_Pos24.ome.tif\n",
      "2023_12_08_10x_1.0x_pLPT20&41_TiTweez_Pos29.ome.tif\n",
      "2023_12_08_10x_1.0x_pLPT20&41_TiTweez_Pos30.ome.tif\n",
      "2023_12_08_10x_1.0x_pLPT20&41_TiTweez_Pos31.ome.tif\n",
      "2023_12_08_10x_1.0x_pLPT20&41_TiTweez_Pos32.ome.tif\n",
      "2023_12_08_10x_1.0x_pLPT20&41_TiTweez_Pos34.ome.tif\n",
      "2023_12_08_10x_1.0x_pLPT20&41_TiTweez_Pos35.ome.tif\n"
     ]
    }
   ],
   "source": [
    "exp_sum = pd.read_excel('../Notebooks/Exps_summary.xlsx')\n",
    "exp_sum['formatted_dates'] = exp_sum['Date'].dt.strftime('%Y_%m_%d')\n",
    "scopes = {'Tweez scope': 'TiTweez', 'Ti scope': 'Ti'}\n",
    "dnas = {'pLPT20&pLPT41': 'pLPT20&41', 'pLPT119&pLPT41': 'pLPT119&41', 'pAAA': 'pAAA', 'pLPT107&pLPT41': 'pLPT107&41'}\n",
    "positions = pd.read_excel('../Notebooks/Positions.xlsx')\n",
    "for i in range(len(exp_sum)):\n",
    "    print(i)\n",
    "    print(exp_sum.loc[i,'Date'], exp_sum.loc[i,'Machine'], exp_sum.loc[i,'DNA'])\n",
    "    exp_date = exp_sum.loc[i,'formatted_dates']\n",
    "    vector = exp_sum.loc[i,'DNA']\n",
    "    if vector == 'pAAA':\n",
    "        continue\n",
    "    else:\n",
    "        scope_name = exp_sum.loc[i,'Machine']\n",
    "        poss = positions[(positions.Date == exp_sum.loc[i, 'Date']) & \n",
    "            (positions.DNA == vector) & \n",
    "            (positions.Machine == scope_name) & \n",
    "            (positions.Quality == 'Very good')].Position.unique()\n",
    "        for pos in poss:\n",
    "            print(f'{exp_date}_10x_1.0x_{dnas[vector]}_{scopes[scope_name]}_Pos{pos}.ome.tif')"
   ]
  },
  {
   "cell_type": "code",
   "execution_count": 28,
   "id": "f9d5b603-d483-4b15-96c9-47d93db8fa5c",
   "metadata": {},
   "outputs": [
    {
     "data": {
      "text/plain": [
       "array([ 0,  1,  2,  3,  6,  7,  9, 17, 19])"
      ]
     },
     "execution_count": 28,
     "metadata": {},
     "output_type": "execute_result"
    }
   ],
   "source": [
    "positions[(positions.Date == exp_sum.loc[i, 'Date']) & \n",
    "        (positions.DNA == vector) & \n",
    "        (positions.Machine == scope_name) & \n",
    "        (positions.Quality == 'Very good')].Position.unique()"
   ]
  },
  {
   "cell_type": "code",
   "execution_count": 25,
   "id": "1e99f35f-6ad8-4518-91b0-76616970eaa8",
   "metadata": {},
   "outputs": [
    {
     "data": {
      "text/plain": [
       "'pLPT20&41'"
      ]
     },
     "execution_count": 25,
     "metadata": {},
     "output_type": "execute_result"
    }
   ],
   "source": [
    "vector"
   ]
  },
  {
   "cell_type": "code",
   "execution_count": 16,
   "id": "dfa97bb5-6c82-4032-bb35-9afdbf83f7cd",
   "metadata": {},
   "outputs": [
    {
     "data": {
      "text/plain": [
       "'Ti scope'"
      ]
     },
     "execution_count": 16,
     "metadata": {},
     "output_type": "execute_result"
    }
   ],
   "source": [
    "scope_name"
   ]
  },
  {
   "cell_type": "code",
   "execution_count": 21,
   "id": "a5e22523-7554-4847-a4ce-97fd5bda2f37",
   "metadata": {},
   "outputs": [
    {
     "data": {
      "text/plain": [
       "array([ 0,  1,  2,  3,  6,  7,  9, 17, 19])"
      ]
     },
     "execution_count": 21,
     "metadata": {},
     "output_type": "execute_result"
    }
   ],
   "source": [
    "positions[(positions.Date == exp_sum.loc[i, 'Date']) & \n",
    "        (positions.Machine == scope_name) & \n",
    "        (positions.Quality == 'Very good')].Position.unique()"
   ]
  },
  {
   "cell_type": "code",
   "execution_count": 30,
   "id": "c2946532-fdf2-46e2-8061-6fe2581051b0",
   "metadata": {},
   "outputs": [],
   "source": [
    "dnas = {'pLPT20&pLPT41': 'pLPT20&41', 'pLPT119&pLPT41': 'pLPT119&41', 'pAAA': 'pAAA', 'pLPT107&pLPT41': 'pLPT107&41'}\n"
   ]
  }
 ],
 "metadata": {
  "kernelspec": {
   "display_name": "Python 3 (ipykernel)",
   "language": "python",
   "name": "python3"
  },
  "language_info": {
   "codemirror_mode": {
    "name": "ipython",
    "version": 3
   },
   "file_extension": ".py",
   "mimetype": "text/x-python",
   "name": "python",
   "nbconvert_exporter": "python",
   "pygments_lexer": "ipython3",
   "version": "3.11.5"
  }
 },
 "nbformat": 4,
 "nbformat_minor": 5
}
