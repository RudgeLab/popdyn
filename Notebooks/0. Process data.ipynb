{
 "cells": [
  {
   "cell_type": "code",
   "execution_count": 1,
   "id": "3aee8af1-5509-4cb5-aca3-0aa32095b1f9",
   "metadata": {},
   "outputs": [],
   "source": [
    "import os\n",
    "import json\n",
    "import pandas as pd\n",
    "import numpy as np"
   ]
  },
  {
   "cell_type": "markdown",
   "id": "21303a7e-211e-4158-9ea7-8cb2584b5924",
   "metadata": {},
   "source": [
    "### Making a dataframe from the results folders to handle the data"
   ]
  },
  {
   "cell_type": "code",
   "execution_count": null,
   "id": "cb16783f-8e75-4888-9ab5-fd32105c7239",
   "metadata": {},
   "outputs": [],
   "source": [
    "# params\n",
    "path = '/media/c1046372/Expansion/Thesis GY/3. Analyzed files'\n",
    "df_in = pd.read_excel('Positions.xlsx')\n",
    "df_out = df_in[df_in['Quality'] == 'Very good'].copy().reset_index(drop=True)\n",
    "\n",
    "df_out.loc[:,[\"area_max\"]] = np.nan\n",
    "# Initialize the columns as type 'object' to store arrays/lists\n",
    "df_out['radius'] = pd.Series(dtype='object') # colony radius in time\n",
    "df_out['area'] = pd.Series(dtype='object') # colony area in time\n",
    "\n",
    "# growth fitting\n",
    "df_out.loc[:,[\"gomp_params\"]] = np.nan # parameters fitting Gompertz\n",
    "df_out.loc[:,[\"logistic_params\"]] = np.nan # parameters fitting Logistic\n",
    "df_out.loc[:,[\"t_m_gomp\"]] = np.nan # time at which mu is maximum in Gompertz\n",
    "df_out.loc[:,[\"t_m_logistic\"]] = np.nan # time at which mu is maximum in Logistic\n",
    "\n",
    "# velocity field fitting\n",
    "df_out.loc[:,[\"r0\"]] = np.nan\n",
    "df_out.loc[:,[\"vel_start\"]] = np.nan #frame at which the velocimetry starts\n",
    "df_out.loc[:,[\"vel_stop\"]] = np.nan #frame at which the velocimetry ends\n",
    "df_out.loc[:,[\"vel_fit_start\"]] = np.nan #frame at which the fitting starts\n",
    "df_out.loc[:,[\"vel_fit_stop\"]] = np.nan #frame at which the fitting ends\n",
    "df_out['mu0'] = pd.Series(dtype='object')\n",
    "\n",
    "# wave speed fitting\n",
    "df_out.loc[:,[\"ws_params\"]] = np.nan\n",
    "\n",
    "# Display the head of the DataFrame to check the assignment\n",
    "df_out.head()"
   ]
  },
  {
   "cell_type": "markdown",
   "id": "123d821e-2ca5-40d2-af5c-af27121c95e4",
   "metadata": {},
   "source": [
    "#### Extract area and radius endpoints, as well as all dynamics"
   ]
  },
  {
   "cell_type": "code",
   "execution_count": null,
   "id": "5f039ef3-3d25-44ba-8925-9bf7b0e7bde5",
   "metadata": {},
   "outputs": [],
   "source": [
    "# extract area and radius from each position's results and store it in a dataframe\n",
    "scopes = os.listdir(path)\n",
    "for s in scopes:\n",
    "    scope_dates = os.listdir(os.path.join(path,s))\n",
    "    scope_dates.sort()\n",
    "    for d in scope_dates:\n",
    "        date = datetime.strptime(d, '%Y_%m_%d')\n",
    "        data = df_out[(df_out.Date == date) & (df_out.Machine == s)]\n",
    "        pos = data.Position.unique()\n",
    "        path_results = os.path.join(path,s,d,'results')\n",
    "        for p in pos:\n",
    "            path_pos = os.path.join(path_results,f'pos{p}')\n",
    "            area_path = os.path.join(path_pos, 'area.npy')\n",
    "            radius_path = os.path.join(path_pos, 'radius.npy')\n",
    "\n",
    "            ridx = df_out[(df_out.Date == date) & (df_out.Machine==s) & (df_out.Position == p)].index[0]\n",
    "\n",
    "            # load area and radius\n",
    "            radius = np.load(radius_path)  \n",
    "            area = np.load(area_path)\n",
    "            outn = 'data_processed.xlsx'\n",
    "\n",
    "            # quantities are not filtered\n",
    "            df_out.at[ridx, 'radius'] = radius\n",
    "            df_out.at[ridx, 'area'] = area"
   ]
  },
  {
   "cell_type": "code",
   "execution_count": null,
   "id": "54473e0b-de87-4e68-a1ef-1728645484b6",
   "metadata": {},
   "outputs": [],
   "source": [
    "df_out.to_excel(outn, index=False)"
   ]
  }
 ],
 "metadata": {
  "kernelspec": {
   "display_name": "Python 3 (ipykernel)",
   "language": "python",
   "name": "python3"
  },
  "language_info": {
   "codemirror_mode": {
    "name": "ipython",
    "version": 3
   },
   "file_extension": ".py",
   "mimetype": "text/x-python",
   "name": "python",
   "nbconvert_exporter": "python",
   "pygments_lexer": "ipython3",
   "version": "3.11.5"
  }
 },
 "nbformat": 4,
 "nbformat_minor": 5
}
