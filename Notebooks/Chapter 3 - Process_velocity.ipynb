{
 "cells": [
  {
   "cell_type": "code",
   "execution_count": 1,
   "id": "f5ffb20d-9c8a-409c-aab5-f36b9cd3e514",
   "metadata": {},
   "outputs": [],
   "source": [
    "import numpy as np\n",
    "import os\n",
    "from skimage.io import imread, imsave\n",
    "from scipy.ndimage import distance_transform_edt\n",
    "import matplotlib.pyplot as plt"
   ]
  },
  {
   "cell_type": "code",
   "execution_count": 12,
   "id": "4fdf0720-fe80-4ee1-a10c-e1d51a8e1ea9",
   "metadata": {},
   "outputs": [],
   "source": [
    "# Image frame to start from and step between frames\n",
    "start_frame = 0\n",
    "step = 1\n",
    "nframes = 60\n",
    "#pos = 0\n",
    "# Position and velocity arrays from velocimetry\n",
    "\n",
    "position = 2\n",
    "path = '/media/c1046372/Expansion/Thesis GY/3. Analyzed files'\n",
    "scope_name = 'Ti scope'\n",
    "exp_date = '2023_11_28'\n",
    "velocity_folder = 'velocity_data'\n",
    "masks_folder = 'contour_masks'\n",
    "results_folder = 'results'\n",
    "dnas = {'pLPT20&pLPT41': 'pLPT20&41', 'pLPT119&pLPT41': 'pLPT119&41', 'pAAA': 'pAAA', 'pLPT107&pLPT41': 'pLPT107&41'}\n",
    "scopes = {'Tweez scope': 'TiTweez', 'Ti scope': 'Ti'}\n",
    "#vector = 'pLPT20&pLPT41'\n",
    "vector = 'pAAA'\n",
    "vel = np.load(os.path.join(path,scope_name,exp_date,velocity_folder,f'pos{position}','vel.np.npy'))\n",
    "pos = np.load(os.path.join(path,scope_name,exp_date,velocity_folder,f'pos{position}','pos.np.npy'))\n",
    "\n",
    "# Size of data\n",
    "nx, ny, nt, _ = vel.shape\n",
    "\n",
    "fname = f'{exp_date}_10x_1.0x_{dnas[vector]}_{scopes[scope_name]}_Pos{position}.ome.tif'\n",
    "#im_all = imread(f'/media/c1046372/Expansion/Thesis GY/3. Analyzed files/Ti scope/2023_11_15/2023_11_15_10x_1.0x_{}_Ti_Pos0.ome.tif')\n",
    "edt = np.load(os.path.join(path,scope_name,exp_date,results_folder,f'pos{position}','edt.npy'))\n",
    "mask_all = imread(os.path.join(path,scope_name,exp_date,masks_folder,'mask_'+fname))\n",
    "mask_all = mask_all > 0\n",
    "\n",
    "_, edtnx, edtny = edt.shape\n",
    "# mask_all = np.zeros(im_all.shape[:3])\n",
    "x, y = np.meshgrid(np.arange(edtnx), np.arange(edtny))\n",
    "# cx,cy = 320,500\n",
    "# r = np.sqrt((x-cy)**2 + (y-cx)**2)\n",
    "# mask = r<300\n",
    "# for frame in range(im_all.shape[0]):\n",
    "#    mask_all[frame,:,:] = mask\n",
    "# mask_all = (mask_all==True)*1\n",
    "\n",
    "# Make arrays to store results\n",
    "radpos = np.zeros((nt, nx, ny))\n",
    "vmag = np.zeros((nt, nx, ny))\n",
    "vrad = np.zeros((nt, nx, ny))\n",
    "vtheta = np.zeros((nt, nx, ny))\n",
    "\n",
    "#edt = np.zeros((nt, 1200, 1200))\n"
   ]
  },
  {
   "cell_type": "code",
   "execution_count": 13,
   "id": "b3d80ceb-7fd2-444d-8441-c15c9f7f7d42",
   "metadata": {},
   "outputs": [
    {
     "name": "stdout",
     "output_type": "stream",
     "text": [
      "Processing frame 0\n",
      "Processing frame 1\n",
      "Processing frame 2\n",
      "Processing frame 3\n"
     ]
    },
    {
     "name": "stderr",
     "output_type": "stream",
     "text": [
      "/tmp/ipykernel_44724/2129167845.py:32: RuntimeWarning: Mean of empty slice\n",
      "  gx[ix, iy] = -np.nanmean(gradx[px[ix, iy]:px[ix, iy] + 64, py[ix, iy]:py[ix, iy] + 64])\n",
      "/tmp/ipykernel_44724/2129167845.py:33: RuntimeWarning: Mean of empty slice\n",
      "  gy[ix, iy] = -np.nanmean(grady[px[ix, iy]:px[ix, iy] + 64, py[ix, iy]:py[ix, iy] + 64])\n"
     ]
    },
    {
     "name": "stdout",
     "output_type": "stream",
     "text": [
      "Processing frame 4\n",
      "Processing frame 5\n",
      "Processing frame 6\n",
      "Processing frame 7\n",
      "Processing frame 8\n",
      "Processing frame 9\n",
      "Processing frame 10\n",
      "Processing frame 11\n",
      "Processing frame 12\n",
      "Processing frame 13\n",
      "Processing frame 14\n",
      "Processing frame 15\n",
      "Processing frame 16\n",
      "Processing frame 17\n",
      "Processing frame 18\n",
      "Processing frame 19\n",
      "Processing frame 20\n",
      "Processing frame 21\n",
      "Processing frame 22\n",
      "Processing frame 23\n",
      "Processing frame 24\n",
      "Processing frame 25\n",
      "Processing frame 26\n",
      "Processing frame 27\n",
      "Processing frame 28\n",
      "Processing frame 29\n",
      "Processing frame 30\n",
      "Processing frame 31\n",
      "Processing frame 32\n",
      "Processing frame 33\n",
      "Processing frame 34\n",
      "Processing frame 35\n",
      "Processing frame 36\n",
      "Processing frame 37\n",
      "Processing frame 38\n",
      "Processing frame 39\n",
      "Processing frame 40\n",
      "Processing frame 41\n",
      "Processing frame 42\n",
      "Processing frame 43\n",
      "Processing frame 44\n",
      "Processing frame 45\n",
      "Processing frame 46\n",
      "Processing frame 47\n",
      "Processing frame 48\n",
      "Processing frame 49\n",
      "Processing frame 50\n",
      "Processing frame 51\n",
      "Processing frame 52\n",
      "Processing frame 53\n",
      "Processing frame 54\n",
      "Processing frame 55\n",
      "Processing frame 56\n",
      "Processing frame 57\n",
      "Processing frame 58\n"
     ]
    }
   ],
   "source": [
    "# Process the data and save results\n",
    "for frame in range(nt):\n",
    "    print(f'Processing frame {frame}')\n",
    "\n",
    "    mask = mask_all[start_frame + frame * step + 1, :, :]\n",
    "    cx = x[mask > 0].mean()\n",
    "    cy = y[mask > 0].mean()\n",
    "\n",
    "    vx = vel[:, :, frame, 0]\n",
    "    vy = vel[:, :, frame, 1]\n",
    "\n",
    "    # Subtract drift from velocities\n",
    "    vx -= np.nanmean(vx)\n",
    "    vy -= np.nanmean(vy)\n",
    "\n",
    "    # Compute distance of each pixel from colony edge\n",
    "    #edt[frame, :, :] = distance_transform_edt(mask)\n",
    "    # edt[frame,:,:] = distance_transform_edt(mask_all[frame*step,:,:])\n",
    "\n",
    "    # Get direction to colony edge as negative of gradient of distance\n",
    "    gradx, grady = np.gradient(edt[start_frame + frame * step + 1, :, :])\n",
    "    gradx[mask == 0] = np.nan\n",
    "    grady[mask == 0] = np.nan\n",
    "    px = pos[:, :, frame, 0].astype(int)\n",
    "    py = pos[:, :, frame, 1].astype(int)\n",
    "    pnorm = np.sqrt((px - cx) ** 2 + (py - cy) ** 2)\n",
    "\n",
    "    gx = np.zeros((nx, ny))\n",
    "    gy = np.zeros((nx, ny))\n",
    "    for ix in range(nx):\n",
    "        for iy in range(ny):\n",
    "            gx[ix, iy] = -np.nanmean(gradx[px[ix, iy]:px[ix, iy] + 64, py[ix, iy]:py[ix, iy] + 64])\n",
    "            gy[ix, iy] = -np.nanmean(grady[px[ix, iy]:px[ix, iy] + 64, py[ix, iy]:py[ix, iy] + 64])\n",
    "            # radpos[frame,ix,iy] = np.nanmean(edt[frame, px[ix,iy]-32:px[ix,iy]+32, py[ix,iy]-32:py[ix,iy]+32])\n",
    "    # Compute magnitude of velocities in radial direction\n",
    "    velnorm = np.sqrt(vx ** 2 + vy ** 2)\n",
    "    gnorm = np.sqrt(gx ** 2 + gy ** 2)\n",
    "    vmag[frame, :, :] = vx * gx + vy * gy\n",
    "    vrad[frame, :, :] = vmag[frame, :, :] / velnorm / gnorm\n",
    "    vperp = vx * gy - vy * gx\n",
    "    vtheta[frame, :, :] = vperp / velnorm / gnorm\n",
    "\n",
    "    # Radial position of each grid square\n",
    "    radpos[frame, :, :] = edt[frame, px + 16, py + 16]\n",
    "\n",
    "# Area and estimated radius of colony\n",
    "# area = mask_all[start_frame:start_frame + nt*step:step,:,:].sum(axis=(1,2))\n",
    "#area = mask_all[start_frame:start_frame + nt * step:step, :, :].sum(axis=(1, 2))\n",
    "#radius = np.sqrt(area / np.pi)\n",
    "\n",
    "# Save results\n",
    "\n",
    "path_save = os.path.join(path,scope_name,exp_date,results_folder,f'pos{position}')\n",
    "np.save(os.path.join(path_save,'radpos.npy'), radpos)\n",
    "#np.save(os.path.join(path_save,'radpos.npy')'results/edt.npy', edt)\n",
    "np.save(os.path.join(path_save,'vmag.npy'), vmag)\n",
    "np.save(os.path.join(path_save,'vrad.npy'), vrad)\n",
    "np.save(os.path.join(path_save,'vtheta.npy'), vtheta)\n",
    "#np.save(os.path.join(path_save,'radpos.npy')'results/area.npy', area)\n",
    "#np.save(os.path.join(path_save,'radpos.npy')'results/radius.npy', radius)\n"
   ]
  },
  {
   "cell_type": "code",
   "execution_count": 15,
   "id": "18c2d290-bcd9-41a2-b63b-4efcbf39eb2e",
   "metadata": {},
   "outputs": [
    {
     "data": {
      "text/plain": [
       "(216, 1200, 1200)"
      ]
     },
     "execution_count": 15,
     "metadata": {},
     "output_type": "execute_result"
    }
   ],
   "source": [
    "edt.shape"
   ]
  },
  {
   "cell_type": "code",
   "execution_count": 16,
   "id": "fadbad52-9314-42f8-815d-0b12f7334707",
   "metadata": {},
   "outputs": [
    {
     "data": {
      "text/plain": [
       "(59, 37, 37)"
      ]
     },
     "execution_count": 16,
     "metadata": {},
     "output_type": "execute_result"
    }
   ],
   "source": [
    "radpos.shape"
   ]
  },
  {
   "cell_type": "code",
   "execution_count": 17,
   "id": "157d896d-aef9-464c-abd2-08681181a927",
   "metadata": {},
   "outputs": [
    {
     "data": {
      "text/plain": [
       "(37, 37, 59, 2)"
      ]
     },
     "execution_count": 17,
     "metadata": {},
     "output_type": "execute_result"
    }
   ],
   "source": [
    "vel.shape"
   ]
  },
  {
   "cell_type": "code",
   "execution_count": 18,
   "id": "f1b76bf8-5348-43c9-877d-e8ca515367f5",
   "metadata": {},
   "outputs": [
    {
     "data": {
      "text/plain": [
       "(37, 37, 59, 2)"
      ]
     },
     "execution_count": 18,
     "metadata": {},
     "output_type": "execute_result"
    }
   ],
   "source": [
    "pos.shape"
   ]
  },
  {
   "cell_type": "code",
   "execution_count": null,
   "id": "1ddf776e-7189-4c5a-a992-c5658dfa603a",
   "metadata": {},
   "outputs": [],
   "source": []
  },
  {
   "cell_type": "code",
   "execution_count": null,
   "id": "bb185450-862e-4648-bd8a-5ca1c0220dad",
   "metadata": {},
   "outputs": [],
   "source": []
  },
  {
   "cell_type": "code",
   "execution_count": null,
   "id": "c3dcfef2-5a21-4405-a86c-01eb9400ef61",
   "metadata": {},
   "outputs": [],
   "source": []
  },
  {
   "cell_type": "code",
   "execution_count": 19,
   "id": "7ac2dd7e-1f1b-49c6-89f8-cfe5a2023dff",
   "metadata": {},
   "outputs": [],
   "source": [
    "# Image frame to start from and step between frames\n",
    "start_frame = 0\n",
    "step = 1\n",
    "nframes = 60\n",
    "#pos = 0\n",
    "# Position and velocity arrays from velocimetry\n",
    "\n",
    "position = 0\n",
    "path = '/media/c1046372/Expansion/Thesis GY/3. Analyzed files'\n",
    "scope_name = 'Ti scope'\n",
    "exp_date = '2023_11_15'\n",
    "velocity_folder = 'velocity_data'\n",
    "masks_folder = 'contour_masks'\n",
    "results_folder = 'results'\n",
    "dnas = {'pLPT20&pLPT41': 'pLPT20&41', 'pLPT119&pLPT41': 'pLPT119&41', 'pAAA': 'pAAA', 'pLPT107&pLPT41': 'pLPT107&41'}\n",
    "scopes = {'Tweez scope': 'TiTweez', 'Ti scope': 'Ti'}\n",
    "vector = 'pLPT20&pLPT41'\n",
    "#vector = 'pAAA'\n",
    "vel = np.load(os.path.join(path,scope_name,exp_date,velocity_folder,f'pos{position}','vel.np.npy'))\n",
    "pos = np.load(os.path.join(path,scope_name,exp_date,velocity_folder,f'pos{position}','pos.np.npy'))\n",
    "\n",
    "# Size of data\n",
    "nx, ny, nt, _ = vel.shape\n",
    "\n",
    "fname = f'{exp_date}_10x_1.0x_{dnas[vector]}_{scopes[scope_name]}_Pos{position}.ome.tif'\n",
    "#im_all = imread(f'/media/c1046372/Expansion/Thesis GY/3. Analyzed files/Ti scope/2023_11_15/2023_11_15_10x_1.0x_{}_Ti_Pos0.ome.tif')\n",
    "edt = np.load(os.path.join(path,scope_name,exp_date,results_folder,f'pos{position}','edt.npy'))\n",
    "mask_all = imread(os.path.join(path,scope_name,exp_date,masks_folder,'mask_'+fname))\n",
    "mask_all = mask_all > 0\n",
    "\n",
    "_, edtnx, edtny = edt.shape\n",
    "# mask_all = np.zeros(im_all.shape[:3])\n",
    "x, y = np.meshgrid(np.arange(edtnx), np.arange(edtny))\n",
    "# cx,cy = 320,500\n",
    "# r = np.sqrt((x-cy)**2 + (y-cx)**2)\n",
    "# mask = r<300\n",
    "# for frame in range(im_all.shape[0]):\n",
    "#    mask_all[frame,:,:] = mask\n",
    "# mask_all = (mask_all==True)*1\n",
    "\n",
    "# Make arrays to store results\n",
    "radpos = np.zeros((nt, nx, ny))\n",
    "vmag = np.zeros((nt, nx, ny))\n",
    "vrad = np.zeros((nt, nx, ny))\n",
    "vtheta = np.zeros((nt, nx, ny))\n",
    "\n",
    "#edt = np.zeros((nt, 1200, 1200))"
   ]
  },
  {
   "cell_type": "code",
   "execution_count": 20,
   "id": "c5b258a2-b58e-4cca-95ef-a542dbb8b739",
   "metadata": {},
   "outputs": [
    {
     "name": "stdout",
     "output_type": "stream",
     "text": [
      "Processing frame 0\n"
     ]
    },
    {
     "name": "stderr",
     "output_type": "stream",
     "text": [
      "/tmp/ipykernel_44724/2129167845.py:32: RuntimeWarning: Mean of empty slice\n",
      "  gx[ix, iy] = -np.nanmean(gradx[px[ix, iy]:px[ix, iy] + 64, py[ix, iy]:py[ix, iy] + 64])\n",
      "/tmp/ipykernel_44724/2129167845.py:33: RuntimeWarning: Mean of empty slice\n",
      "  gy[ix, iy] = -np.nanmean(grady[px[ix, iy]:px[ix, iy] + 64, py[ix, iy]:py[ix, iy] + 64])\n"
     ]
    },
    {
     "ename": "IndexError",
     "evalue": "index 1200 is out of bounds for axis 1 with size 1200",
     "output_type": "error",
     "traceback": [
      "\u001b[0;31m---------------------------------------------------------------------------\u001b[0m",
      "\u001b[0;31mIndexError\u001b[0m                                Traceback (most recent call last)",
      "Cell \u001b[0;32mIn[20], line 44\u001b[0m\n\u001b[1;32m     41\u001b[0m     vtheta[frame, :, :] \u001b[38;5;241m=\u001b[39m vperp \u001b[38;5;241m/\u001b[39m velnorm \u001b[38;5;241m/\u001b[39m gnorm\n\u001b[1;32m     43\u001b[0m     \u001b[38;5;66;03m# Radial position of each grid square\u001b[39;00m\n\u001b[0;32m---> 44\u001b[0m     radpos[frame, :, :] \u001b[38;5;241m=\u001b[39m edt[frame, px \u001b[38;5;241m+\u001b[39m \u001b[38;5;241m16\u001b[39m, py \u001b[38;5;241m+\u001b[39m \u001b[38;5;241m16\u001b[39m]\n\u001b[1;32m     46\u001b[0m \u001b[38;5;66;03m# Area and estimated radius of colony\u001b[39;00m\n\u001b[1;32m     47\u001b[0m \u001b[38;5;66;03m# area = mask_all[start_frame:start_frame + nt*step:step,:,:].sum(axis=(1,2))\u001b[39;00m\n\u001b[1;32m     48\u001b[0m \u001b[38;5;66;03m#area = mask_all[start_frame:start_frame + nt * step:step, :, :].sum(axis=(1, 2))\u001b[39;00m\n\u001b[1;32m     49\u001b[0m \u001b[38;5;66;03m#radius = np.sqrt(area / np.pi)\u001b[39;00m\n\u001b[1;32m     50\u001b[0m \n\u001b[1;32m     51\u001b[0m \u001b[38;5;66;03m# Save results\u001b[39;00m\n\u001b[1;32m     53\u001b[0m path_save \u001b[38;5;241m=\u001b[39m os\u001b[38;5;241m.\u001b[39mpath\u001b[38;5;241m.\u001b[39mjoin(path,scope_name,exp_date,results_folder,\u001b[38;5;124mf\u001b[39m\u001b[38;5;124m'\u001b[39m\u001b[38;5;124mpos\u001b[39m\u001b[38;5;132;01m{\u001b[39;00mposition\u001b[38;5;132;01m}\u001b[39;00m\u001b[38;5;124m'\u001b[39m)\n",
      "\u001b[0;31mIndexError\u001b[0m: index 1200 is out of bounds for axis 1 with size 1200"
     ]
    }
   ],
   "source": [
    "# Process the data and save results\n",
    "for frame in range(nt):\n",
    "    print(f'Processing frame {frame}')\n",
    "\n",
    "    mask = mask_all[start_frame + frame * step + 1, :, :]\n",
    "    cx = x[mask > 0].mean()\n",
    "    cy = y[mask > 0].mean()\n",
    "\n",
    "    vx = vel[:, :, frame, 0]\n",
    "    vy = vel[:, :, frame, 1]\n",
    "\n",
    "    # Subtract drift from velocities\n",
    "    vx -= np.nanmean(vx)\n",
    "    vy -= np.nanmean(vy)\n",
    "\n",
    "    # Compute distance of each pixel from colony edge\n",
    "    #edt[frame, :, :] = distance_transform_edt(mask)\n",
    "    # edt[frame,:,:] = distance_transform_edt(mask_all[frame*step,:,:])\n",
    "\n",
    "    # Get direction to colony edge as negative of gradient of distance\n",
    "    gradx, grady = np.gradient(edt[start_frame + frame * step + 1, :, :])\n",
    "    gradx[mask == 0] = np.nan\n",
    "    grady[mask == 0] = np.nan\n",
    "    px = pos[:, :, frame, 0].astype(int)\n",
    "    py = pos[:, :, frame, 1].astype(int)\n",
    "    pnorm = np.sqrt((px - cx) ** 2 + (py - cy) ** 2)\n",
    "\n",
    "    gx = np.zeros((nx, ny))\n",
    "    gy = np.zeros((nx, ny))\n",
    "    for ix in range(nx):\n",
    "        for iy in range(ny):\n",
    "            gx[ix, iy] = -np.nanmean(gradx[px[ix, iy]:px[ix, iy] + 64, py[ix, iy]:py[ix, iy] + 64])\n",
    "            gy[ix, iy] = -np.nanmean(grady[px[ix, iy]:px[ix, iy] + 64, py[ix, iy]:py[ix, iy] + 64])\n",
    "            # radpos[frame,ix,iy] = np.nanmean(edt[frame, px[ix,iy]-32:px[ix,iy]+32, py[ix,iy]-32:py[ix,iy]+32])\n",
    "    # Compute magnitude of velocities in radial direction\n",
    "    velnorm = np.sqrt(vx ** 2 + vy ** 2)\n",
    "    gnorm = np.sqrt(gx ** 2 + gy ** 2)\n",
    "    vmag[frame, :, :] = vx * gx + vy * gy\n",
    "    vrad[frame, :, :] = vmag[frame, :, :] / velnorm / gnorm\n",
    "    vperp = vx * gy - vy * gx\n",
    "    vtheta[frame, :, :] = vperp / velnorm / gnorm\n",
    "\n",
    "    # Radial position of each grid square\n",
    "    radpos[frame, :, :] = edt[frame, px + 16, py + 16]\n",
    "\n",
    "# Area and estimated radius of colony\n",
    "# area = mask_all[start_frame:start_frame + nt*step:step,:,:].sum(axis=(1,2))\n",
    "#area = mask_all[start_frame:start_frame + nt * step:step, :, :].sum(axis=(1, 2))\n",
    "#radius = np.sqrt(area / np.pi)\n",
    "\n",
    "# Save results\n",
    "\n",
    "path_save = os.path.join(path,scope_name,exp_date,results_folder,f'pos{position}')\n",
    "np.save(os.path.join(path_save,'radpos.npy'), radpos)\n",
    "#np.save(os.path.join(path_save,'radpos.npy')'results/edt.npy', edt)\n",
    "np.save(os.path.join(path_save,'vmag.npy'), vmag)\n",
    "np.save(os.path.join(path_save,'vrad.npy'), vrad)\n",
    "np.save(os.path.join(path_save,'vtheta.npy'), vtheta)\n",
    "#np.save(os.path.join(path_save,'radpos.npy')'results/area.npy', area)\n",
    "#np.save(os.path.join(path_save,'radpos.npy')'results/radius.npy', radius)\n"
   ]
  },
  {
   "cell_type": "code",
   "execution_count": 21,
   "id": "2c07c43e-ea29-4de9-8eb0-837f20ae8efa",
   "metadata": {},
   "outputs": [
    {
     "data": {
      "text/plain": [
       "(216, 1200, 1200)"
      ]
     },
     "execution_count": 21,
     "metadata": {},
     "output_type": "execute_result"
    }
   ],
   "source": [
    "edt.shape"
   ]
  },
  {
   "cell_type": "code",
   "execution_count": 22,
   "id": "e30f310a-2a68-49c6-aad3-28dc8c4bcbba",
   "metadata": {},
   "outputs": [
    {
     "data": {
      "text/plain": [
       "(59, 75, 75)"
      ]
     },
     "execution_count": 22,
     "metadata": {},
     "output_type": "execute_result"
    }
   ],
   "source": [
    "radpos.shape"
   ]
  },
  {
   "cell_type": "code",
   "execution_count": 23,
   "id": "a6d9d657-c61e-4501-af27-f0d07431f78a",
   "metadata": {},
   "outputs": [
    {
     "data": {
      "text/plain": [
       "(75, 75, 59, 2)"
      ]
     },
     "execution_count": 23,
     "metadata": {},
     "output_type": "execute_result"
    }
   ],
   "source": [
    "vel.shape"
   ]
  },
  {
   "cell_type": "code",
   "execution_count": 24,
   "id": "c2ecb4d6-6a01-4541-bdf8-a660fe95efee",
   "metadata": {},
   "outputs": [
    {
     "data": {
      "text/plain": [
       "(75, 75, 59, 2)"
      ]
     },
     "execution_count": 24,
     "metadata": {},
     "output_type": "execute_result"
    }
   ],
   "source": [
    "pos.shape"
   ]
  },
  {
   "cell_type": "code",
   "execution_count": 25,
   "id": "8aa73162-35c6-44dc-836b-6568110889fc",
   "metadata": {},
   "outputs": [
    {
     "data": {
      "text/plain": [
       "0"
      ]
     },
     "execution_count": 25,
     "metadata": {},
     "output_type": "execute_result"
    }
   ],
   "source": [
    "frame"
   ]
  },
  {
   "cell_type": "code",
   "execution_count": 28,
   "id": "18eb4673-685c-42b8-973a-230ccf974975",
   "metadata": {},
   "outputs": [
    {
     "ename": "IndexError",
     "evalue": "index 1200 is out of bounds for axis 1 with size 1200",
     "output_type": "error",
     "traceback": [
      "\u001b[0;31m---------------------------------------------------------------------------\u001b[0m",
      "\u001b[0;31mIndexError\u001b[0m                                Traceback (most recent call last)",
      "Cell \u001b[0;32mIn[28], line 1\u001b[0m\n\u001b[0;32m----> 1\u001b[0m radpos[frame, :, :] \u001b[38;5;241m=\u001b[39m edt[frame, px \u001b[38;5;241m+\u001b[39m \u001b[38;5;241m16\u001b[39m, py \u001b[38;5;241m+\u001b[39m \u001b[38;5;241m16\u001b[39m]\n",
      "\u001b[0;31mIndexError\u001b[0m: index 1200 is out of bounds for axis 1 with size 1200"
     ]
    }
   ],
   "source": [
    "radpos[frame, :, :] = edt[frame, px + 16, py + 16]"
   ]
  },
  {
   "cell_type": "code",
   "execution_count": null,
   "id": "da07d4ff-0291-45c4-89f0-fa8b42f8a497",
   "metadata": {},
   "outputs": [],
   "source": []
  }
 ],
 "metadata": {
  "kernelspec": {
   "display_name": "Python 3 (ipykernel)",
   "language": "python",
   "name": "python3"
  },
  "language_info": {
   "codemirror_mode": {
    "name": "ipython",
    "version": 3
   },
   "file_extension": ".py",
   "mimetype": "text/x-python",
   "name": "python",
   "nbconvert_exporter": "python",
   "pygments_lexer": "ipython3",
   "version": "3.11.5"
  }
 },
 "nbformat": 4,
 "nbformat_minor": 5
}
